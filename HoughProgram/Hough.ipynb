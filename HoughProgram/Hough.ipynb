{
 "cells": [
  {
   "cell_type": "markdown",
   "metadata": {},
   "source": []
  },
  {
   "cell_type": "code",
   "execution_count": 1,
   "metadata": {},
   "outputs": [],
   "source": [
    "import cv2\n",
    "import numpy as np\n",
    "import matplotlib.pyplot as plt\n",
    "import math"
   ]
  },
  {
   "cell_type": "code",
   "execution_count": 2,
   "metadata": {},
   "outputs": [],
   "source": [
    "def sobelEdgeDetector(image):\n",
    "    #pixels = image.load()\n",
    "    pixels = image\n",
    "\n",
    "    width, height = len(pixels[0]), len(pixels)\n",
    "\n",
    "    xMatrix = [[-1, 0, 1],\n",
    "               [-2, 0, 2],\n",
    "               [-1, 0, 1]]\n",
    "    \n",
    "    yMatrix = [[-1, -2, -1],\n",
    "               [ 0,  0,  0],\n",
    "               [ 1,  2,  1]]\n",
    "    \n",
    "    xSobelImage =       [[0 for _ in range(width)] for _ in range(height)]\n",
    "    ySobelImage =       [[0 for _ in range(width)] for _ in range(height)]\n",
    "    uniformSobelImage = [[0 for _ in range(width)] for _ in range(height)]\n",
    "\n",
    "    for y in range(1, height-1):\n",
    "        for x in range(1, width-1):\n",
    "            #print(x, \", \", y)\n",
    "            imageMatrix = image[y-1:y+2, x-1:x+2]\n",
    "            \n",
    "            xValue = convolve(xMatrix, imageMatrix)\n",
    "            yValue = convolve(yMatrix, imageMatrix)\n",
    "\n",
    "            uniformValue = np.sqrt((xValue**2) + (yValue**2))\n",
    "\n",
    "            xSobelImage[y][x] = xValue\n",
    "            ySobelImage[y][x] = yValue\n",
    "            uniformSobelImage[y][x] = uniformValue\n",
    "    \n",
    "    #xSobelImage, ySobelImage = uniformGradient(xSobelImage), uniformGradient(ySobelImage)\n",
    "\n",
    "    return xSobelImage, ySobelImage, uniformSobelImage\n",
    "\n",
    "def convolve(matrix, image):\n",
    "    result = 0\n",
    "    for i in range(3):\n",
    "        for j in range(3):\n",
    "            result += matrix[i][j] * image[i][j]\n",
    "\n",
    "    return result\n",
    "\n",
    "def uniformGradient(sobelImage):\n",
    "    width, height = len(sobelImage[0]), len(sobelImage)\n",
    "\n",
    "    for row in range(height):\n",
    "        for col in range(width):\n",
    "            if sobelImage[row][col] < 20:\n",
    "                sobelImage[row][col] = 255\n",
    "            elif sobelImage[row][col] > 20:\n",
    "                sobelImage[row][col] = 255\n",
    "            else:\n",
    "                sobelImage[row][col] = 0"
   ]
  },
  {
   "cell_type": "code",
   "execution_count": 3,
   "metadata": {},
   "outputs": [],
   "source": [
    "#textImage = \"cube/cube.png\"\n",
    "textImage = \"rectas/rectas.JPG\"\n",
    "\n",
    "originalImage = cv2.imread(textImage)\n",
    "\n",
    "bNwImage = cv2.cvtColor(originalImage, cv2.COLOR_BGR2GRAY)\n",
    "\n",
    "xSobelImage, ySobelImage, uniformImage = sobelEdgeDetector(bNwImage)"
   ]
  },
  {
   "cell_type": "code",
   "execution_count": 4,
   "metadata": {},
   "outputs": [
    {
     "data": {
      "text/plain": [
       "True"
      ]
     },
     "execution_count": 4,
     "metadata": {},
     "output_type": "execute_result"
    }
   ],
   "source": [
    "xSobelImage = cv2.normalize(np.abs(xSobelImage), None, 0, 255, cv2.NORM_MINMAX)\n",
    "ySobelImage = cv2.normalize(np.abs(ySobelImage), None, 0, 255, cv2.NORM_MINMAX)\n",
    "uniformImage = cv2.normalize(np.abs(uniformImage), None, 0, 255, cv2.NORM_MINMAX)\n",
    "\n",
    "xSobelImage = xSobelImage.astype(np.uint8)\n",
    "ySobelImage = ySobelImage.astype(np.uint8)\n",
    "uniformImage = uniformImage.astype(np.uint8)\n",
    "\n",
    "cv2.imwrite(textImage + 'x_sobel.jpg', xSobelImage)\n",
    "cv2.imwrite(textImage +'y_sobel.jpg', ySobelImage)\n",
    "cv2.imwrite(textImage +'uniform_sobel.jpg', uniformImage)"
   ]
  },
  {
   "cell_type": "code",
   "execution_count": 5,
   "metadata": {},
   "outputs": [],
   "source": [
    "def houghMatrixOriginal(image):\n",
    "\n",
    "    pixels = image\n",
    "    width, height = len(pixels[0]), len(pixels)\n",
    "\n",
    "    y_dim = int(np.sqrt((width**2)+(height**2)))\n",
    "    x_dim = 360\n",
    "\n",
    "    matriz = np.zeros((x_dim, y_dim))\n",
    "    \n",
    "    for y in range(1, height-1):\n",
    "        for x in range(1, width-1):\n",
    "            if pixels[y][x] > 200:\n",
    "                for theta in range(x_dim):\n",
    "                    theta_rad = np.deg2rad(theta)\n",
    "                    rho = int(x * np.cos(theta_rad) + y * np.sin(theta_rad))\n",
    "                    if rho < np.sqrt((width**2)+(height**2)):\n",
    "                        matriz[theta][rho] += 1\n",
    "    \n",
    "    n_mayores = 10\n",
    "\n",
    "    indices_aplanados = np.argpartition(matriz.flatten(), -n_mayores)[-n_mayores:]\n",
    "    valores_mayores = matriz.flatten()[indices_aplanados]\n",
    "    indices_mayores = np.unravel_index(indices_aplanados, matriz.shape)\n",
    "\n",
    "    orden = np.argsort(-valores_mayores)\n",
    "    valores_mayores = valores_mayores[orden]\n",
    "    indices_mayores = tuple(indice[orden] for indice in indices_mayores)\n",
    "\n",
    "    lista = []\n",
    "\n",
    "    for i in range(len(indices_mayores[0])):\n",
    "        lista.append((indices_mayores[0][i], indices_mayores[1][i]))\n",
    "\n",
    "    return lista\n"
   ]
  },
  {
   "cell_type": "code",
   "execution_count": 6,
   "metadata": {},
   "outputs": [],
   "source": [
    "def houghMatrix(image):\n",
    "    height, width = image.shape\n",
    "    diagonal = int(np.sqrt(height**2 + width**2))\n",
    "    thetas = np.deg2rad(np.arange(0, 180))\n",
    "    rhos = np.arange(-diagonal, diagonal)\n",
    "    \n",
    "    hough_space = np.zeros((2 * diagonal, len(thetas)))\n",
    "\n",
    "    y_idxs, x_idxs = np.nonzero(image > 150)\n",
    "    \n",
    "    for i in range(len(x_idxs)):\n",
    "        x = x_idxs[i]\n",
    "        y = y_idxs[i]\n",
    "        \n",
    "        for theta_idx in range(len(thetas)):\n",
    "            theta = thetas[theta_idx]\n",
    "            rho = int(x * np.cos(theta) + y * np.sin(theta))\n",
    "            hough_space[rho + diagonal, theta_idx] += 1\n",
    "\n",
    "    n_mayores = 10\n",
    "    indices_aplanados = np.argpartition(hough_space.flatten(), -n_mayores)[-n_mayores:]\n",
    "    valores_mayores = hough_space.flatten()[indices_aplanados]\n",
    "    indices_mayores = np.unravel_index(indices_aplanados, hough_space.shape)\n",
    "\n",
    "    orden = np.argsort(-valores_mayores)\n",
    "    valores_mayores = valores_mayores[orden]\n",
    "    indices_mayores = tuple(indice[orden] for indice in indices_mayores)\n",
    "\n",
    "    lista = []\n",
    "\n",
    "    for i in range(len(indices_mayores[0])):\n",
    "        lista.append((rhos[indices_mayores[0][i]], np.rad2deg(thetas[indices_mayores[1][i]])))\n",
    "\n",
    "    return lista"
   ]
  },
  {
   "cell_type": "code",
   "execution_count": 7,
   "metadata": {},
   "outputs": [],
   "source": [
    "matrix = houghMatrix(uniformImage)"
   ]
  },
  {
   "cell_type": "code",
   "execution_count": 8,
   "metadata": {},
   "outputs": [],
   "source": [
    "def get_line_points(rho, theta, width, height):\n",
    "    theta_rad = np.deg2rad(theta)\n",
    "    \n",
    "    # Calcular el coseno y seno de theta\n",
    "    a = np.cos(theta_rad)\n",
    "    b = np.sin(theta_rad)\n",
    "    \n",
    "    # Calcular los puntos de intersección con los bordes de la imagen\n",
    "    points = []\n",
    "    \n",
    "    # Intersección con el borde superior (y = 0)\n",
    "    if b != 0:\n",
    "        x_top = int(rho / a)\n",
    "        if 0 <= x_top <= width:\n",
    "            points.append((x_top, 0))\n",
    "    \n",
    "    # Intersección con el borde inferior (y = height)\n",
    "    if b != 0:\n",
    "        #x_bottom = int((rho - height * b) / a)\n",
    "        x_bottom = int(((-b/a)*height) + (rho/a))\n",
    "        if 0 <= x_bottom <= width:\n",
    "            points.append((x_bottom, height))\n",
    "    \n",
    "    # Intersección con el borde izquierdo (x = 0)\n",
    "    if a != 0:\n",
    "        y_left = int(rho / b)\n",
    "        if 0 <= y_left <= height:\n",
    "            points.append((0, y_left))\n",
    "    \n",
    "    # Intersección con el borde derecho (x = width)\n",
    "    if a != 0:\n",
    "        #y_right = int((rho - width * a) / b)\n",
    "        y_right = int(((-a/b)*width) + (rho/b))\n",
    "        if 0 <= y_right <= height:\n",
    "            points.append((width, y_right))\n",
    "\n",
    "    return points"
   ]
  },
  {
   "cell_type": "code",
   "execution_count": 9,
   "metadata": {},
   "outputs": [
    {
     "data": {
      "text/plain": [
       "True"
      ]
     },
     "execution_count": 9,
     "metadata": {},
     "output_type": "execute_result"
    }
   ],
   "source": [
    "height, width = uniformImage.shape\n",
    "\n",
    "color_image = cv2.cvtColor(uniformImage, cv2.COLOR_GRAY2BGR)\n",
    "\n",
    "\n",
    "for rho, theta in matrix:\n",
    "\n",
    "    points = get_line_points(rho, theta, width, height)\n",
    "\n",
    "    if len(points) == 2:\n",
    "        pt1, pt2 = points\n",
    "        # Dibujar la línea en rojo\n",
    "        color = (0, 0, 255)  # Rojo en formato BGR\n",
    "        cv2.line(color_image, pt1, pt2, color, 2)\n",
    "\n",
    "cv2.imwrite(textImage + 'RedLine.png', color_image)"
   ]
  },
  {
   "cell_type": "code",
   "execution_count": 10,
   "metadata": {},
   "outputs": [],
   "source": [
    "def printPixels(image):\n",
    "    width, height = len(image[0]), len(image)\n",
    "\n",
    "    lista = []\n",
    "\n",
    "    for y in range(1, height-1):\n",
    "        for x in range(1, width-1):\n",
    "            #print(image[y][x])\n",
    "            lista.append(image[y][x])\n",
    "    \n",
    "    return lista"
   ]
  }
 ],
 "metadata": {
  "kernelspec": {
   "display_name": "Python 3",
   "language": "python",
   "name": "python3"
  },
  "language_info": {
   "codemirror_mode": {
    "name": "ipython",
    "version": 3
   },
   "file_extension": ".py",
   "mimetype": "text/x-python",
   "name": "python",
   "nbconvert_exporter": "python",
   "pygments_lexer": "ipython3",
   "version": "3.12.0"
  }
 },
 "nbformat": 4,
 "nbformat_minor": 2
}
